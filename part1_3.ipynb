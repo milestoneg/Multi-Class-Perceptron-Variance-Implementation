{
 "cells": [
  {
   "cell_type": "code",
   "execution_count": 1,
   "metadata": {},
   "outputs": [],
   "source": [
    "import pandas as pd\n",
    "import numpy as np\n",
    "import math\n",
    "import matplotlib.pyplot as plt\n",
    "#from k_class_perceptron import k_class_perceptron\n",
    "from sklearn.model_selection import train_test_split, KFold\n",
    "from prettytable import PrettyTable\n",
    "from muti_class_perceptron_1vRest import k_class_perceptron_1vRest\n",
    "from multi_class_perceptron_1v1 import k_class_perceptron_1v1\n",
    "#from skmultilearn.adapt import MLkNN\n",
    "#from kernel_Perceptron_1 import kernel_Perceptron\n",
    "\n",
    "data = pd.read_table(\"zipcombo.dat\", sep=\"\\s+\")\n",
    "#data = pd.read_table(\"dtrain123.dat\", sep=\"\\s+\")\n",
    "data = np.array(data)"
   ]
  },
  {
   "cell_type": "code",
   "execution_count": 2,
   "metadata": {},
   "outputs": [],
   "source": [
    "def k_fold_crossvalidation(k, data_x, data_y, d, iteration, kernel = \"poly\"):\n",
    "\t#split data into k segments averagely\n",
    "\tkf=KFold(n_splits=k)\n",
    "\ta = kf.split(data_x)\n",
    "\tmistake_list = []\n",
    "\tfor train_data_index, test_data_index in a:\n",
    "\t\t#split data set\n",
    "\t\tx_train = data_x[train_data_index]\n",
    "\t\tx_test = data_x[test_data_index]\n",
    "\t\ty_train = data_y[train_data_index]\n",
    "\t\ty_test = data_y[test_data_index]\n",
    "\t\t#perceptron\n",
    "\t\tkp = k_class_perceptron_1vRest(len(x_train),x_train,y_train,10,d, kernel)\n",
    "\t\tkp.train(iteration)\n",
    "\t\tmistakes = test_classifiers(x_test,y_test,kp)\n",
    "\t\tmistake_list.append(mistakes)\n",
    "\t\tprint(\"-------------------\")\n",
    "\tsum = 0\n",
    "\tfor i in range(len(mistake_list)):\n",
    "\t\tsum+= mistake_list[i]\n",
    "\tmean_mistake = sum/len(mistake_list)\n",
    "\treturn mean_mistake"
   ]
  },
  {
   "cell_type": "code",
   "execution_count": 3,
   "metadata": {},
   "outputs": [],
   "source": [
    "def test_classifiers(test_data,test_labels,perceptron):\n",
    "\t'''\n",
    "\tmistake_count = 0\n",
    "\tfor i in range(len(test_data)):\n",
    "\t\tconfidence, result = perceptron.predict(test_data[i])\n",
    "\t\tif(result != test_labels[i]):\n",
    "\t\t\tmistake_count = mistake_count + 1\n",
    "\treturn mistake_count\n",
    "\t'''\n",
    "\tmistake_count = 0\n",
    "\tconfident_mtx = perceptron.predict_mtx(test_data)\n",
    "\tmistake_count = 0\n",
    "\tfor i in range(len(confident_mtx)):\n",
    "\t\tindivadual_confident_list = confident_mtx[i].tolist()\n",
    "\t\tpredict_label = indivadual_confident_list.index(max(indivadual_confident_list))\n",
    "\t\tif(int(predict_label) != int(test_labels[i])):\n",
    "\t\t\tmistake_count += 1\n",
    "\treturn mistake_count"
   ]
  },
  {
   "cell_type": "code",
   "execution_count": 4,
   "metadata": {},
   "outputs": [],
   "source": [
    "def part1_3():\n",
    "\tinteration = 15\n",
    "\tconfusion_mat = np.zeros(shape=(10,10))\n",
    "\tSTD_mat = np.zeros(shape=(10,10))\n",
    "\tsingle_confusion_mtx_list = []\n",
    "\terror_images_index = []\n",
    "\tfor i in range(20):\n",
    "\t\tsingle_confusion_mtx = np.zeros(shape = (10,10))\n",
    "\t\tdata_train ,data_test = train_test_split(data,test_size=0.2)\n",
    "\t\tx_train = data_train[:,1:]\n",
    "\t\ty_train = data_train[:,0]\n",
    "\t\tx_test = data_test[:,1:]\n",
    "\t\ty_test = data_test[:,0]\n",
    "\t\tmistake_list = []\n",
    "\t\tfor d in range(1,8):\n",
    "\t\t\tprint(\"-----------------------\")\n",
    "\t\t\tprint(\"now d is: \"+ str(d))\n",
    "\t\t\tprint(\"-----------------------\")\n",
    "\t\t\tmistake = k_fold_crossvalidation(5, x_train, y_train, d, interation)\n",
    "\t\t\tmistake_list.append(mistake)\n",
    "\t\td_star = mistake_list.index(min(mistake_list))+1\n",
    "\t\tprint(d_star)\n",
    "\t\tkp = k_class_perceptron_1vRest(len(x_train),x_train,y_train,10,d_star)\n",
    "\t\tkp.train(interation)\n",
    "\t\tfor i in range(len(x_train)):\n",
    "\t\t\tconfident, predict = kp.predict(x_train[i])\n",
    "\t\t\tif(int(predict) != int(y_train[i])):\n",
    "\t\t\t\tsingle_confusion_mtx[int(y_train[i])][int(predict)] += 1\n",
    "\t\t\t\terror_images_index.append(i)\n",
    "\t\tsingle_confusion_mtx_list.append(single_confusion_mtx)\n",
    "\t#calculate sum of 20 single_confusion_mtx\n",
    "\tfor i in range(len(single_confusion_mtx_list)):\n",
    "\t\tconfusion_mat += single_confusion_mtx_list[i]\n",
    "\t#calculate STD for each single_confusion_mtx\n",
    "\ttmp = np.zeros(shape=(10,10))\n",
    "\tfor row in range(len(tmp)):\n",
    "\t\tfor column in range(len(tmp)):\n",
    "\t\t\telement_list = []\n",
    "\t\t\tfor i in single_confusion_mtx_list:\n",
    "\t\t\t\telement = i[row][column]\n",
    "\t\t\t\telement_list.append(element)\n",
    "\t\t\telement_list = np.array(element_list)\n",
    "\t\t\tstd = np.std(element_list)\n",
    "\t\t\tSTD_mat[row][column] = std\n",
    "\tprint(\"-----------------------\")\n",
    "\tprint(confusion_mat)\n",
    "\tprint(STD_mat)\n",
    "\tprint(error_images_index)"
   ]
  },
  {
   "cell_type": "code",
   "execution_count": null,
   "metadata": {},
   "outputs": [],
   "source": [
    "part1_3()"
   ]
  }
 ],
 "metadata": {
  "kernelspec": {
   "display_name": "Python 3",
   "language": "python",
   "name": "python3"
  },
  "language_info": {
   "codemirror_mode": {
    "name": "ipython",
    "version": 3
   },
   "file_extension": ".py",
   "mimetype": "text/x-python",
   "name": "python",
   "nbconvert_exporter": "python",
   "pygments_lexer": "ipython3",
   "version": "3.7.0"
  }
 },
 "nbformat": 4,
 "nbformat_minor": 2
}
