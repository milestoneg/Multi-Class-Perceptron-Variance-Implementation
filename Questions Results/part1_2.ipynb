{
 "cells": [
  {
   "cell_type": "code",
   "execution_count": 2,
   "metadata": {},
   "outputs": [],
   "source": [
    "import pandas as pd\n",
    "import numpy as np\n",
    "import math\n",
    "import matplotlib.pyplot as plt\n",
    "#from k_class_perceptron import k_class_perceptron\n",
    "from sklearn.model_selection import train_test_split, KFold\n",
    "from prettytable import PrettyTable\n",
    "from muti_class_perceptron_1vRest import k_class_perceptron_1vRest\n",
    "from multi_class_perceptron_1v1 import k_class_perceptron_1v1\n",
    "#from skmultilearn.adapt import MLkNN\n",
    "#from kernel_Perceptron_1 import kernel_Perceptron\n",
    "\n",
    "data = pd.read_table(\"zipcombo.dat\", sep=\"\\s+\")\n",
    "#data = pd.read_table(\"dtrain123.dat\", sep=\"\\s+\")\n",
    "data = np.array(data)"
   ]
  },
  {
   "cell_type": "code",
   "execution_count": 3,
   "metadata": {},
   "outputs": [],
   "source": [
    "def k_fold_crossvalidation(k, data_x, data_y, d, iteration, kernel = \"poly\"):\n",
    "\t#split data into k segments averagely\n",
    "\tkf=KFold(n_splits=k)\n",
    "\ta = kf.split(data_x)\n",
    "\tmistake_list = []\n",
    "\tfor train_data_index, test_data_index in a:\n",
    "\t\t#split data set\n",
    "\t\tx_train = data_x[train_data_index]\n",
    "\t\tx_test = data_x[test_data_index]\n",
    "\t\ty_train = data_y[train_data_index]\n",
    "\t\ty_test = data_y[test_data_index]\n",
    "\t\t#perceptron\n",
    "\t\tkp = k_class_perceptron_1vRest(len(x_train),x_train,y_train,10,d, kernel)\n",
    "\t\tkp.train(iteration)\n",
    "\t\tmistakes = test_classifiers(x_test,y_test,kp)\n",
    "\t\tmistake_list.append(mistakes)\n",
    "\t\tprint(\"-------------------\")\n",
    "\tsum = 0\n",
    "\tfor i in range(len(mistake_list)):\n",
    "\t\tsum+= mistake_list[i]\n",
    "\tmean_mistake = sum/len(mistake_list)\n",
    "\treturn mean_mistake"
   ]
  },
  {
   "cell_type": "code",
   "execution_count": null,
   "metadata": {},
   "outputs": [],
   "source": [
    "def test_classifiers(test_data,test_labels,perceptron):\n",
    "\t'''\n",
    "\tmistake_count = 0\n",
    "\tfor i in range(len(test_data)):\n",
    "\t\tconfidence, result = perceptron.predict(test_data[i])\n",
    "\t\tif(result != test_labels[i]):\n",
    "\t\t\tmistake_count = mistake_count + 1\n",
    "\treturn mistake_count\n",
    "\t'''\n",
    "\tmistake_count = 0\n",
    "\tconfident_mtx = perceptron.predict_mtx(test_data)\n",
    "\tmistake_count = 0\n",
    "\tfor i in range(len(confident_mtx)):\n",
    "\t\tindivadual_confident_list = confident_mtx[i].tolist()\n",
    "\t\tpredict_label = indivadual_confident_list.index(max(indivadual_confident_list))\n",
    "\t\tif(int(predict_label) != int(test_labels[i])):\n",
    "\t\t\tmistake_count += 1\n",
    "\treturn mistake_count"
   ]
  },
  {
   "cell_type": "code",
   "execution_count": 4,
   "metadata": {},
   "outputs": [],
   "source": [
    "def part1_2():\n",
    "\tinteration = 5\n",
    "\tresult_mtx = np.zeros(shape=(20,2))\n",
    "\tfor i in range(20):\n",
    "\t\tdata_train ,data_test = train_test_split(data,test_size=0.2)\n",
    "\t\tx_train = data_train[:,1:]\n",
    "\t\ty_train = data_train[:,0]\n",
    "\t\tx_test = data_test[:,1:]\n",
    "\t\ty_test = data_test[:,0]\n",
    "\t\tmistake_list = []\n",
    "\t\tfor d in range(1,8):\n",
    "\t\t\tprint(\"-----------------------\")\n",
    "\t\t\tprint(\"now d is: \"+ str(d))\n",
    "\t\t\tprint(\"-----------------------\")\n",
    "\t\t\tmistake = k_fold_crossvalidation(5, x_train, y_train, d, interation)\n",
    "\t\t\tmistake_list.append(mistake)\n",
    "\t\td_star = mistake_list.index(min(mistake_list))+1\n",
    "\t\tkp = k_class_perceptron_1vRest(len(x_train),x_train,y_train,10,d_star)\n",
    "\t\tkp.train(interation)\n",
    "\t\ttest_error = test_classifiers(x_test,y_test,kp)\n",
    "\t\tresult_mtx[i][0] = d_star\n",
    "\t\tresult_mtx[i][1] = test_error\n",
    "\tmean_error = np.sum(result_mtx, axis = 0)[1]/20\n",
    "\terror_std = np.std(result_mtx, axis = 0)[1]\n",
    "\tmean_d_star =  np.sum(result_mtx, axis = 0)[0]/20\n",
    "\td_star_std = np.std(result_mtx, axis = 0)[0]\n",
    "\tprint(\"-------------\")\n",
    "\tprint(\"mean test error: \"+ str(mean_error) + \" ± \" + str(error_std))\n",
    "\tprint(\"mean d*: \" + str(mean_d_star) + \" ± \" + str(d_star_std))"
   ]
  },
  {
   "cell_type": "code",
   "execution_count": null,
   "metadata": {},
   "outputs": [],
   "source": [
    "part1_2()"
   ]
  }
 ],
 "metadata": {
  "kernelspec": {
   "display_name": "Python 3",
   "language": "python",
   "name": "python3"
  },
  "language_info": {
   "codemirror_mode": {
    "name": "ipython",
    "version": 3
   },
   "file_extension": ".py",
   "mimetype": "text/x-python",
   "name": "python",
   "nbconvert_exporter": "python",
   "pygments_lexer": "ipython3",
   "version": "3.7.0"
  }
 },
 "nbformat": 4,
 "nbformat_minor": 2
}
