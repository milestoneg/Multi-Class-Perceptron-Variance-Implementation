{
 "cells": [
  {
   "cell_type": "code",
   "execution_count": 4,
   "metadata": {},
   "outputs": [],
   "source": [
    "import pandas as pd\n",
    "import numpy as np\n",
    "import math\n",
    "import matplotlib.pyplot as plt\n",
    "#from k_class_perceptron import k_class_perceptron\n",
    "from sklearn.model_selection import train_test_split, KFold\n",
    "from prettytable import PrettyTable\n",
    "from muti_class_perceptron_1vRest import k_class_perceptron_1vRest\n",
    "from multi_class_perceptron_1v1 import k_class_perceptron_1v1\n",
    "#from skmultilearn.adapt import MLkNN\n",
    "#from kernel_Perceptron_1 import kernel_Perceptron\n",
    "import cos_knn as knn\n",
    "import svc as svc\n",
    "import randomforeast as rfc\n",
    "\n",
    "data = pd.read_table(\"zipcombo.dat\", sep=\"\\s+\")\n",
    "#data = pd.read_table(\"dtrain123.dat\", sep=\"\\s+\")\n",
    "data = np.array(data)\n",
    "#data = data[:50]\n",
    "#data_train_x = data[:,1:]\n",
    "#data_train_y = data[:,0]\n",
    "error_images_index = []"
   ]
  },
  {
   "cell_type": "code",
   "execution_count": 5,
   "metadata": {},
   "outputs": [],
   "source": [
    "def k_fold_crossvalidation_for_svc(k, data_x, data_y, d, kernel = \"poly\"):\n",
    "\t#split data into k segments averagely\n",
    "\tkf=KFold(n_splits=k)\n",
    "\ta = kf.split(data_x)\n",
    "\tmistake_list = []\n",
    "\tfor train_data_index, test_data_index in a:\n",
    "\t\t#split data set\n",
    "\t\tx_train = data_x[train_data_index]\n",
    "\t\tx_test = data_x[test_data_index]\n",
    "\t\ty_train = data_y[train_data_index]\n",
    "\t\ty_test = data_y[test_data_index]\n",
    "\t\t#perceptron\n",
    "\t\tpred, train_error, test_error = svc.SVC(x_test, y_test,x_train, y_train, d)\n",
    "\t\tmistakes = test_error\n",
    "\t\tmistake_list.append(mistakes)\n",
    "\tsum = 0\n",
    "\tfor i in range(len(mistake_list)):\n",
    "\t\tsum+= mistake_list[i]\n",
    "\tmean_mistake = sum/len(mistake_list)\n",
    "\treturn mean_mistake\n"
   ]
  },
  {
   "cell_type": "code",
   "execution_count": 6,
   "metadata": {},
   "outputs": [],
   "source": [
    "def part1_7_svc_1():\n",
    "\tresult_table = PrettyTable([\"train errors ± STD\",\"test errors ± STD\"])\n",
    "\ttrain_result_mtx = np.zeros(shape = (7,20))\n",
    "\ttest_result_mtx = np.zeros(shape = (7,20))\n",
    "\tfor d in range(1,8):\n",
    "\t\tmistake_train_mtx = np.zeros(shape = (20,1))\n",
    "\t\tmistake_test_mtx = np.zeros(shape = (20,1))\n",
    "\t\tfor i in range(20):\n",
    "\t\t\tprint(\"---------------\")\n",
    "\t\t\tprint(\"d = \" + str(d)+\", round: \"+ str(i))\n",
    "\t\t\t#split data set\n",
    "\t\t\tdata_train ,data_test = train_test_split(data,test_size=0.2)\n",
    "\t\t\tx_train = data_train[:,1:]\n",
    "\t\t\ty_train = data_train[:,0]\n",
    "\t\t\tx_test = data_test[:,1:]\n",
    "\t\t\ty_test = data_test[:,0]\n",
    "\n",
    "\n",
    "\t\t\t#perceptron\n",
    "\t\t\tpred, train_error, test_error = svc.SVC(x_test, y_test,x_train, y_train, d)\n",
    "\n",
    "\t\t\tmistake_train = train_error\n",
    "\t\t\tmistake_train_mtx[i] = mistake_train\n",
    "\t\t\tmistake_test = test_error\n",
    "\t\t\tmistake_test_mtx[i] = mistake_test\n",
    "\t\t\t#print(mistake_test_mtx)\n",
    "\t\tmistake_train_mtx = np.sum(mistake_train_mtx, axis=1)\n",
    "\t\tmistake_test_mtx = np.sum(mistake_test_mtx, axis=1)\n",
    "\t\ttrain_result_mtx[d-1] = mistake_train_mtx\n",
    "\t\ttest_result_mtx[d-1] = mistake_test_mtx\n",
    "\t#print(test_result_mtx)\n",
    "\n",
    "\tfor i in range(len(train_result_mtx)):\n",
    "\t\tmean_train_error = np.sum(train_result_mtx[i])/20\n",
    "\t\ttrain_std = np.std(train_result_mtx[i], ddof = 1)\n",
    "\t\tmean_test_error = np.sum(test_result_mtx[i])/20\n",
    "\t\ttest_std = np.std(test_result_mtx[i], ddof = 1)\n",
    "\t\tresult_table.add_row([str(mean_train_error) + ' ± ' +str(train_std), str(mean_test_error)+ ' ± ' +str(test_std)])\n",
    "\tprint(result_table)"
   ]
  },
  {
   "cell_type": "code",
   "execution_count": 7,
   "metadata": {},
   "outputs": [
    {
     "name": "stdout",
     "output_type": "stream",
     "text": [
      "---------------\n",
      "d = 1, round: 0\n",
      "---------------\n",
      "d = 1, round: 1\n"
     ]
    },
    {
     "ename": "KeyboardInterrupt",
     "evalue": "",
     "output_type": "error",
     "traceback": [
      "\u001b[0;31m---------------------------------------------------------------------------\u001b[0m",
      "\u001b[0;31mKeyboardInterrupt\u001b[0m                         Traceback (most recent call last)",
      "\u001b[0;32m<ipython-input-7-177f1201fc6c>\u001b[0m in \u001b[0;36m<module>\u001b[0;34m()\u001b[0m\n\u001b[0;32m----> 1\u001b[0;31m \u001b[0mpart1_7_svc_1\u001b[0m\u001b[0;34m(\u001b[0m\u001b[0;34m)\u001b[0m\u001b[0;34m\u001b[0m\u001b[0m\n\u001b[0m",
      "\u001b[0;32m<ipython-input-6-09dd0e108710>\u001b[0m in \u001b[0;36mpart1_7_svc_1\u001b[0;34m()\u001b[0m\n\u001b[1;32m     18\u001b[0m \u001b[0;34m\u001b[0m\u001b[0m\n\u001b[1;32m     19\u001b[0m                         \u001b[0;31m#perceptron\u001b[0m\u001b[0;34m\u001b[0m\u001b[0;34m\u001b[0m\u001b[0m\n\u001b[0;32m---> 20\u001b[0;31m                         \u001b[0mpred\u001b[0m\u001b[0;34m,\u001b[0m \u001b[0mtrain_error\u001b[0m\u001b[0;34m,\u001b[0m \u001b[0mtest_error\u001b[0m \u001b[0;34m=\u001b[0m \u001b[0msvc\u001b[0m\u001b[0;34m.\u001b[0m\u001b[0mSVC\u001b[0m\u001b[0;34m(\u001b[0m\u001b[0mx_test\u001b[0m\u001b[0;34m,\u001b[0m \u001b[0my_test\u001b[0m\u001b[0;34m,\u001b[0m\u001b[0mx_train\u001b[0m\u001b[0;34m,\u001b[0m \u001b[0my_train\u001b[0m\u001b[0;34m,\u001b[0m \u001b[0md\u001b[0m\u001b[0;34m)\u001b[0m\u001b[0;34m\u001b[0m\u001b[0m\n\u001b[0m\u001b[1;32m     21\u001b[0m \u001b[0;34m\u001b[0m\u001b[0m\n\u001b[1;32m     22\u001b[0m                         \u001b[0mmistake_train\u001b[0m \u001b[0;34m=\u001b[0m \u001b[0mtrain_error\u001b[0m\u001b[0;34m\u001b[0m\u001b[0m\n",
      "\u001b[0;32m~/Dropbox/UCL Master/Supervised Learning/cw2/svc.py\u001b[0m in \u001b[0;36mSVC\u001b[0;34m(test_data, test_label, train_data, train_label, d)\u001b[0m\n\u001b[1;32m     13\u001b[0m     \u001b[0msvm_model_poly_classifier\u001b[0m \u001b[0;34m=\u001b[0m \u001b[0msvc\u001b[0m\u001b[0;34m(\u001b[0m\u001b[0mkernel\u001b[0m\u001b[0;34m=\u001b[0m\u001b[0;34m'poly'\u001b[0m\u001b[0;34m,\u001b[0m \u001b[0mdegree\u001b[0m \u001b[0;34m=\u001b[0m \u001b[0md\u001b[0m\u001b[0;34m,\u001b[0m \u001b[0mC\u001b[0m\u001b[0;34m=\u001b[0m\u001b[0;36m5\u001b[0m\u001b[0;34m,\u001b[0m \u001b[0mgamma\u001b[0m\u001b[0;34m=\u001b[0m\u001b[0;36m0.05\u001b[0m\u001b[0;34m,\u001b[0m \u001b[0mprobability\u001b[0m\u001b[0;34m=\u001b[0m\u001b[0;32mTrue\u001b[0m\u001b[0;34m)\u001b[0m\u001b[0;34m\u001b[0m\u001b[0m\n\u001b[1;32m     14\u001b[0m     \u001b[0;31m#It must be one of ‘linear’, ‘poly’, ‘rbf’, ‘sigmoid’, ‘precomputed’ or a callable.\u001b[0m\u001b[0;34m\u001b[0m\u001b[0;34m\u001b[0m\u001b[0m\n\u001b[0;32m---> 15\u001b[0;31m     \u001b[0msvm_train_error\u001b[0m \u001b[0;34m=\u001b[0m \u001b[0msvm_model_poly_classifier\u001b[0m\u001b[0;34m.\u001b[0m\u001b[0mfit\u001b[0m\u001b[0;34m(\u001b[0m\u001b[0mtrain_data\u001b[0m\u001b[0;34m,\u001b[0m \u001b[0mtrain_label\u001b[0m\u001b[0;34m)\u001b[0m\u001b[0;34m.\u001b[0m\u001b[0mscore\u001b[0m\u001b[0;34m(\u001b[0m\u001b[0mtrain_data\u001b[0m\u001b[0;34m,\u001b[0m \u001b[0mtrain_label\u001b[0m\u001b[0;34m)\u001b[0m\u001b[0;34m\u001b[0m\u001b[0m\n\u001b[0m\u001b[1;32m     16\u001b[0m     \u001b[0msvm_test_error\u001b[0m\u001b[0;34m=\u001b[0m \u001b[0msvm_model_poly_classifier\u001b[0m\u001b[0;34m.\u001b[0m\u001b[0mscore\u001b[0m\u001b[0;34m(\u001b[0m\u001b[0mtest_data\u001b[0m\u001b[0;34m,\u001b[0m \u001b[0mtest_label\u001b[0m\u001b[0;34m)\u001b[0m\u001b[0;34m\u001b[0m\u001b[0m\n\u001b[1;32m     17\u001b[0m     \u001b[0my_predict\u001b[0m \u001b[0;34m=\u001b[0m \u001b[0msvm_model_poly_classifier\u001b[0m\u001b[0;34m.\u001b[0m\u001b[0mpredict\u001b[0m\u001b[0;34m(\u001b[0m\u001b[0mtest_data\u001b[0m\u001b[0;34m)\u001b[0m\u001b[0;34m\u001b[0m\u001b[0m\n",
      "\u001b[0;32m~/anaconda3/lib/python3.7/site-packages/sklearn/svm/base.py\u001b[0m in \u001b[0;36mfit\u001b[0;34m(self, X, y, sample_weight)\u001b[0m\n\u001b[1;32m    185\u001b[0m \u001b[0;34m\u001b[0m\u001b[0m\n\u001b[1;32m    186\u001b[0m         \u001b[0mseed\u001b[0m \u001b[0;34m=\u001b[0m \u001b[0mrnd\u001b[0m\u001b[0;34m.\u001b[0m\u001b[0mrandint\u001b[0m\u001b[0;34m(\u001b[0m\u001b[0mnp\u001b[0m\u001b[0;34m.\u001b[0m\u001b[0miinfo\u001b[0m\u001b[0;34m(\u001b[0m\u001b[0;34m'i'\u001b[0m\u001b[0;34m)\u001b[0m\u001b[0;34m.\u001b[0m\u001b[0mmax\u001b[0m\u001b[0;34m)\u001b[0m\u001b[0;34m\u001b[0m\u001b[0m\n\u001b[0;32m--> 187\u001b[0;31m         \u001b[0mfit\u001b[0m\u001b[0;34m(\u001b[0m\u001b[0mX\u001b[0m\u001b[0;34m,\u001b[0m \u001b[0my\u001b[0m\u001b[0;34m,\u001b[0m \u001b[0msample_weight\u001b[0m\u001b[0;34m,\u001b[0m \u001b[0msolver_type\u001b[0m\u001b[0;34m,\u001b[0m \u001b[0mkernel\u001b[0m\u001b[0;34m,\u001b[0m \u001b[0mrandom_seed\u001b[0m\u001b[0;34m=\u001b[0m\u001b[0mseed\u001b[0m\u001b[0;34m)\u001b[0m\u001b[0;34m\u001b[0m\u001b[0m\n\u001b[0m\u001b[1;32m    188\u001b[0m         \u001b[0;31m# see comment on the other call to np.iinfo in this file\u001b[0m\u001b[0;34m\u001b[0m\u001b[0;34m\u001b[0m\u001b[0m\n\u001b[1;32m    189\u001b[0m \u001b[0;34m\u001b[0m\u001b[0m\n",
      "\u001b[0;32m~/anaconda3/lib/python3.7/site-packages/sklearn/svm/base.py\u001b[0m in \u001b[0;36m_dense_fit\u001b[0;34m(self, X, y, sample_weight, solver_type, kernel, random_seed)\u001b[0m\n\u001b[1;32m    252\u001b[0m                 \u001b[0mcache_size\u001b[0m\u001b[0;34m=\u001b[0m\u001b[0mself\u001b[0m\u001b[0;34m.\u001b[0m\u001b[0mcache_size\u001b[0m\u001b[0;34m,\u001b[0m \u001b[0mcoef0\u001b[0m\u001b[0;34m=\u001b[0m\u001b[0mself\u001b[0m\u001b[0;34m.\u001b[0m\u001b[0mcoef0\u001b[0m\u001b[0;34m,\u001b[0m\u001b[0;34m\u001b[0m\u001b[0m\n\u001b[1;32m    253\u001b[0m                 \u001b[0mgamma\u001b[0m\u001b[0;34m=\u001b[0m\u001b[0mself\u001b[0m\u001b[0;34m.\u001b[0m\u001b[0m_gamma\u001b[0m\u001b[0;34m,\u001b[0m \u001b[0mepsilon\u001b[0m\u001b[0;34m=\u001b[0m\u001b[0mself\u001b[0m\u001b[0;34m.\u001b[0m\u001b[0mepsilon\u001b[0m\u001b[0;34m,\u001b[0m\u001b[0;34m\u001b[0m\u001b[0m\n\u001b[0;32m--> 254\u001b[0;31m                 max_iter=self.max_iter, random_seed=random_seed)\n\u001b[0m\u001b[1;32m    255\u001b[0m \u001b[0;34m\u001b[0m\u001b[0m\n\u001b[1;32m    256\u001b[0m         \u001b[0mself\u001b[0m\u001b[0;34m.\u001b[0m\u001b[0m_warn_from_fit_status\u001b[0m\u001b[0;34m(\u001b[0m\u001b[0;34m)\u001b[0m\u001b[0;34m\u001b[0m\u001b[0m\n",
      "\u001b[0;31mKeyboardInterrupt\u001b[0m: "
     ]
    }
   ],
   "source": [
    "part1_7_svc_1()"
   ]
  },
  {
   "cell_type": "code",
   "execution_count": null,
   "metadata": {},
   "outputs": [],
   "source": []
  }
 ],
 "metadata": {
  "kernelspec": {
   "display_name": "Python 3",
   "language": "python",
   "name": "python3"
  },
  "language_info": {
   "codemirror_mode": {
    "name": "ipython",
    "version": 3
   },
   "file_extension": ".py",
   "mimetype": "text/x-python",
   "name": "python",
   "nbconvert_exporter": "python",
   "pygments_lexer": "ipython3",
   "version": "3.7.0"
  }
 },
 "nbformat": 4,
 "nbformat_minor": 2
}
